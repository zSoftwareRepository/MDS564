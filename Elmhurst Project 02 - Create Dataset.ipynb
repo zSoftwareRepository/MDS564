{
 "cells": [
  {
   "cell_type": "code",
   "execution_count": 1,
   "id": "399dd075",
   "metadata": {},
   "outputs": [],
   "source": [
    "import numpy as np\n",
    "import pandas as pd\n",
    "import pickle as pk"
   ]
  },
  {
   "cell_type": "code",
   "execution_count": 2,
   "id": "a34a9c56",
   "metadata": {},
   "outputs": [],
   "source": [
    "embeddings = np.array(pd.read_csv('data/embeddings_model_w2v_v3.csv', header=None))"
   ]
  },
  {
   "cell_type": "code",
   "execution_count": 3,
   "id": "c43fd327",
   "metadata": {},
   "outputs": [],
   "source": [
    "with open('data/word_to_index_v3.pkl', 'rb') as file:\n",
    "    word_to_index = pk.load(file)"
   ]
  },
  {
   "cell_type": "code",
   "execution_count": 4,
   "id": "ff027adf",
   "metadata": {},
   "outputs": [],
   "source": [
    "with open('data/index_to_word_v3.pkl', 'rb') as file:\n",
    "    index_to_word = pk.load(file)"
   ]
  },
  {
   "cell_type": "code",
   "execution_count": 5,
   "id": "8d9e4f9b",
   "metadata": {},
   "outputs": [],
   "source": [
    "data = pd.read_csv('data/train_data_cat.csv')"
   ]
  },
  {
   "cell_type": "code",
   "execution_count": 6,
   "id": "99b542c9",
   "metadata": {},
   "outputs": [],
   "source": [
    "dataset = []\n",
    "\n",
    "for index, row in data.iterrows():\n",
    "    \n",
    "    customer = np.zeros((300))\n",
    "    \n",
    "    for i in range(2,data.shape[1]):\n",
    "        \n",
    "        token = row[i]\n",
    "        \n",
    "        if type(token) == str:\n",
    "            token = token.lower()\n",
    "        else:\n",
    "            token = str(token)\n",
    "            token = token.zfill(5)\n",
    "        \n",
    "        idx = word_to_index[token]\n",
    "        \n",
    "        customer = customer + embeddings[idx,:].reshape(300)      \n",
    "        \n",
    "        \n",
    "    dataset.append(customer)   "
   ]
  },
  {
   "cell_type": "code",
   "execution_count": 7,
   "id": "b0847f2e",
   "metadata": {
    "scrolled": false
   },
   "outputs": [],
   "source": [
    "customer = pd.DataFrame(dataset)\n",
    "del dataset"
   ]
  },
  {
   "cell_type": "code",
   "execution_count": 8,
   "id": "c19566fd",
   "metadata": {},
   "outputs": [],
   "source": [
    "customer = pd.concat([data.iloc[:,0:2],customer],axis=1)"
   ]
  },
  {
   "cell_type": "code",
   "execution_count": 9,
   "id": "a84b1e84",
   "metadata": {},
   "outputs": [],
   "source": [
    "customer.to_csv('data/project_dataset.csv',index=False)"
   ]
  },
  {
   "cell_type": "code",
   "execution_count": null,
   "id": "c54a8bf6",
   "metadata": {},
   "outputs": [],
   "source": []
  }
 ],
 "metadata": {
  "kernelspec": {
   "display_name": "Python 3 (ipykernel)",
   "language": "python",
   "name": "python3"
  },
  "language_info": {
   "codemirror_mode": {
    "name": "ipython",
    "version": 3
   },
   "file_extension": ".py",
   "mimetype": "text/x-python",
   "name": "python",
   "nbconvert_exporter": "python",
   "pygments_lexer": "ipython3",
   "version": "3.10.9"
  }
 },
 "nbformat": 4,
 "nbformat_minor": 5
}
