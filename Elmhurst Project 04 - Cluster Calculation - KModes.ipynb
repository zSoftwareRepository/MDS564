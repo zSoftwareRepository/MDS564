{
 "cells": [
  {
   "cell_type": "code",
   "execution_count": 1,
   "id": "93410500",
   "metadata": {},
   "outputs": [
    {
     "data": {
      "text/html": [
       "<style>.container { width:90% !important; }</style>"
      ],
      "text/plain": [
       "<IPython.core.display.HTML object>"
      ]
     },
     "metadata": {},
     "output_type": "display_data"
    },
    {
     "data": {
      "text/html": [
       "<style>div.output_area{max-height:10000px;overflow:scroll;}</style>"
      ],
      "text/plain": [
       "<IPython.core.display.HTML object>"
      ]
     },
     "metadata": {},
     "output_type": "display_data"
    },
    {
     "name": "stdout",
     "output_type": "stream",
     "text": [
      "Python: 3.10.9 | packaged by conda-forge | (main, Jan 11 2023, 15:15:40) [MSC v.1916 64 bit (AMD64)]\n",
      "Notebook Last Run Initiated: 2023-03-13 22:06:33.268874\n"
     ]
    }
   ],
   "source": [
    "%load_ext autoreload\n",
    "%autoreload\n",
    "\n",
    "## This expands a notebook to full width\n",
    "from IPython.display import display, HTML\n",
    "\n",
    "display(HTML(\"<style>.container { width:90% !important; }</style>\"))\n",
    "display(HTML(\"\"\"<style>div.output_area{max-height:10000px;overflow:scroll;}</style>\"\"\"))\n",
    "## Show Python Version\n",
    "import sys\n",
    "print(\"Python: {0}\".format(sys.version))\n",
    "\n",
    "## Show Current Time\n",
    "import datetime as dt\n",
    "start = dt.datetime.now()\n",
    "print(\"Notebook Last Run Initiated: \"+str(start))"
   ]
  },
  {
   "cell_type": "code",
   "execution_count": 2,
   "id": "96c2740c",
   "metadata": {},
   "outputs": [],
   "source": [
    "from sklearn.cluster import KMeans\n",
    "import seaborn as sns\n",
    "import matplotlib.pyplot as plt"
   ]
  },
  {
   "cell_type": "code",
   "execution_count": 3,
   "id": "ee070536",
   "metadata": {},
   "outputs": [],
   "source": [
    "seed = 42\n",
    "\n",
    "import pandas as pd\n",
    "import numpy as np\n",
    "\n",
    "from kmodes.kmodes import KModes\n",
    "\n",
    "import sklearn.metrics as sklearn_metrics\n",
    "\n",
    "np.random.seed(seed)"
   ]
  },
  {
   "cell_type": "code",
   "execution_count": 4,
   "id": "909eea62",
   "metadata": {},
   "outputs": [],
   "source": [
    "data = pd.read_csv('data/train_data_cat.csv')\n",
    "\n",
    "data.postal_code = data.postal_code.astype(str)\n",
    "data['postal_code'] = data['postal_code'].str.zfill(5)"
   ]
  },
  {
   "cell_type": "code",
   "execution_count": 5,
   "id": "76739018",
   "metadata": {},
   "outputs": [
    {
     "data": {
      "text/html": [
       "<div>\n",
       "<style scoped>\n",
       "    .dataframe tbody tr th:only-of-type {\n",
       "        vertical-align: middle;\n",
       "    }\n",
       "\n",
       "    .dataframe tbody tr th {\n",
       "        vertical-align: top;\n",
       "    }\n",
       "\n",
       "    .dataframe thead th {\n",
       "        text-align: right;\n",
       "    }\n",
       "</style>\n",
       "<table border=\"1\" class=\"dataframe\">\n",
       "  <thead>\n",
       "    <tr style=\"text-align: right;\">\n",
       "      <th></th>\n",
       "      <th>accountid</th>\n",
       "      <th>userid</th>\n",
       "      <th>postal_code</th>\n",
       "      <th>city</th>\n",
       "      <th>county</th>\n",
       "      <th>state</th>\n",
       "      <th>rural_code</th>\n",
       "      <th>key_zips_ind</th>\n",
       "      <th>gender</th>\n",
       "      <th>marital_status</th>\n",
       "      <th>age</th>\n",
       "      <th>usercreationdate</th>\n",
       "      <th>engaged</th>\n",
       "      <th>camera_count</th>\n",
       "      <th>firsttransaction</th>\n",
       "      <th>ratio_open30</th>\n",
       "    </tr>\n",
       "  </thead>\n",
       "  <tbody>\n",
       "    <tr>\n",
       "      <th>0</th>\n",
       "      <td>B24CB6E7-C8E1-4B8D-9778-B724F67E05B2</td>\n",
       "      <td>64841C33-4A5A-4E8C-BB61-BDD70F326E90</td>\n",
       "      <td>85226</td>\n",
       "      <td>chandler</td>\n",
       "      <td>maricopa</td>\n",
       "      <td>az</td>\n",
       "      <td>rc_s</td>\n",
       "      <td>keyservice</td>\n",
       "      <td>gender_other</td>\n",
       "      <td>ms_other</td>\n",
       "      <td>age_unk</td>\n",
       "      <td>new_user</td>\n",
       "      <td>strongly_engaged</td>\n",
       "      <td>single_camera</td>\n",
       "      <td>fast</td>\n",
       "      <td>low_frequency_ratio30</td>\n",
       "    </tr>\n",
       "    <tr>\n",
       "      <th>1</th>\n",
       "      <td>F51FC1D9-5D37-4D34-AB54-1F41B9BD8C06</td>\n",
       "      <td>F51FC1D9-5D37-4D34-AB54-1F41B9BD8C06</td>\n",
       "      <td>98032</td>\n",
       "      <td>kent</td>\n",
       "      <td>king</td>\n",
       "      <td>wa</td>\n",
       "      <td>rc_u</td>\n",
       "      <td>keyservice</td>\n",
       "      <td>gender_m</td>\n",
       "      <td>ms_m</td>\n",
       "      <td>age_adult</td>\n",
       "      <td>established_user</td>\n",
       "      <td>strongly_engaged</td>\n",
       "      <td>multi_camera</td>\n",
       "      <td>slow</td>\n",
       "      <td>mediumfrequencyratio30</td>\n",
       "    </tr>\n",
       "    <tr>\n",
       "      <th>2</th>\n",
       "      <td>2036E661-F89B-46CA-AD81-1AD78CA8C91E</td>\n",
       "      <td>913AEF55-040B-4F53-BA0A-7F136B4368F6</td>\n",
       "      <td>75204</td>\n",
       "      <td>dallas</td>\n",
       "      <td>dallas</td>\n",
       "      <td>tx</td>\n",
       "      <td>rc_u</td>\n",
       "      <td>keyservice</td>\n",
       "      <td>gender_m</td>\n",
       "      <td>ms_m</td>\n",
       "      <td>age_adult</td>\n",
       "      <td>new_user</td>\n",
       "      <td>strongly_engaged</td>\n",
       "      <td>single_camera</td>\n",
       "      <td>immediate</td>\n",
       "      <td>low_frequency_ratio30</td>\n",
       "    </tr>\n",
       "    <tr>\n",
       "      <th>3</th>\n",
       "      <td>565A44C3-7F0A-4F50-89AA-7E296917B8FF</td>\n",
       "      <td>7584C122-1E64-47E8-B587-F466A39FD7D4</td>\n",
       "      <td>07922</td>\n",
       "      <td>berkeley_heights</td>\n",
       "      <td>union</td>\n",
       "      <td>nj</td>\n",
       "      <td>rc_s</td>\n",
       "      <td>keyservice</td>\n",
       "      <td>gender_m</td>\n",
       "      <td>ms_s</td>\n",
       "      <td>age_adult</td>\n",
       "      <td>new_user</td>\n",
       "      <td>strongly_engaged</td>\n",
       "      <td>single_camera</td>\n",
       "      <td>immediate</td>\n",
       "      <td>mediumfrequencyratio30</td>\n",
       "    </tr>\n",
       "    <tr>\n",
       "      <th>4</th>\n",
       "      <td>677AEC7D-BC45-4D29-B116-3758EA2D15CB</td>\n",
       "      <td>4C70B81B-2A69-4708-A7CE-C1BBCC03E043</td>\n",
       "      <td>40165</td>\n",
       "      <td>shepherdsville</td>\n",
       "      <td>bullitt</td>\n",
       "      <td>ky</td>\n",
       "      <td>rc_s</td>\n",
       "      <td>keyservice</td>\n",
       "      <td>gender_other</td>\n",
       "      <td>ms_other</td>\n",
       "      <td>age_unk</td>\n",
       "      <td>new_user</td>\n",
       "      <td>strongly_engaged</td>\n",
       "      <td>single_camera</td>\n",
       "      <td>immediate</td>\n",
       "      <td>mediumfrequencyratio30</td>\n",
       "    </tr>\n",
       "  </tbody>\n",
       "</table>\n",
       "</div>"
      ],
      "text/plain": [
       "                              accountid                                userid  \\\n",
       "0  B24CB6E7-C8E1-4B8D-9778-B724F67E05B2  64841C33-4A5A-4E8C-BB61-BDD70F326E90   \n",
       "1  F51FC1D9-5D37-4D34-AB54-1F41B9BD8C06  F51FC1D9-5D37-4D34-AB54-1F41B9BD8C06   \n",
       "2  2036E661-F89B-46CA-AD81-1AD78CA8C91E  913AEF55-040B-4F53-BA0A-7F136B4368F6   \n",
       "3  565A44C3-7F0A-4F50-89AA-7E296917B8FF  7584C122-1E64-47E8-B587-F466A39FD7D4   \n",
       "4  677AEC7D-BC45-4D29-B116-3758EA2D15CB  4C70B81B-2A69-4708-A7CE-C1BBCC03E043   \n",
       "\n",
       "  postal_code              city    county state rural_code key_zips_ind  \\\n",
       "0       85226          chandler  maricopa    az       rc_s   keyservice   \n",
       "1       98032              kent      king    wa       rc_u   keyservice   \n",
       "2       75204            dallas    dallas    tx       rc_u   keyservice   \n",
       "3       07922  berkeley_heights     union    nj       rc_s   keyservice   \n",
       "4       40165    shepherdsville   bullitt    ky       rc_s   keyservice   \n",
       "\n",
       "         gender marital_status        age  usercreationdate           engaged  \\\n",
       "0  gender_other       ms_other    age_unk          new_user  strongly_engaged   \n",
       "1      gender_m           ms_m  age_adult  established_user  strongly_engaged   \n",
       "2      gender_m           ms_m  age_adult          new_user  strongly_engaged   \n",
       "3      gender_m           ms_s  age_adult          new_user  strongly_engaged   \n",
       "4  gender_other       ms_other    age_unk          new_user  strongly_engaged   \n",
       "\n",
       "    camera_count firsttransaction            ratio_open30  \n",
       "0  single_camera             fast   low_frequency_ratio30  \n",
       "1   multi_camera             slow  mediumfrequencyratio30  \n",
       "2  single_camera        immediate   low_frequency_ratio30  \n",
       "3  single_camera        immediate  mediumfrequencyratio30  \n",
       "4  single_camera        immediate  mediumfrequencyratio30  "
      ]
     },
     "execution_count": 5,
     "metadata": {},
     "output_type": "execute_result"
    }
   ],
   "source": [
    "data.head()"
   ]
  },
  {
   "cell_type": "code",
   "execution_count": 6,
   "id": "55dca64f",
   "metadata": {},
   "outputs": [],
   "source": [
    "kmode = KModes(n_clusters=2, init = \"random\", n_init = 20, verbose=0, random_state=42)\n",
    "clusters = kmode.fit_predict(data.iloc[:,2:])"
   ]
  },
  {
   "cell_type": "code",
   "execution_count": 7,
   "id": "414273c2",
   "metadata": {},
   "outputs": [],
   "source": [
    "clustered_data = data.loc[:,['accountid','userid']]"
   ]
  },
  {
   "cell_type": "code",
   "execution_count": 8,
   "id": "6236b99f",
   "metadata": {},
   "outputs": [],
   "source": [
    "clustered_data['cluster'] = pd.Categorical(clusters)"
   ]
  },
  {
   "cell_type": "code",
   "execution_count": 9,
   "id": "3dd06406",
   "metadata": {},
   "outputs": [],
   "source": [
    "clustered_data.to_csv('data/cluster_index_KModes.csv',index=False)"
   ]
  },
  {
   "cell_type": "code",
   "execution_count": null,
   "id": "d1638611",
   "metadata": {},
   "outputs": [],
   "source": []
  }
 ],
 "metadata": {
  "kernelspec": {
   "display_name": "Python 3 (ipykernel)",
   "language": "python",
   "name": "python3"
  },
  "language_info": {
   "codemirror_mode": {
    "name": "ipython",
    "version": 3
   },
   "file_extension": ".py",
   "mimetype": "text/x-python",
   "name": "python",
   "nbconvert_exporter": "python",
   "pygments_lexer": "ipython3",
   "version": "3.10.9"
  }
 },
 "nbformat": 4,
 "nbformat_minor": 5
}
