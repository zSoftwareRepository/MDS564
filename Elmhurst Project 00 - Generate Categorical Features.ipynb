{
 "cells": [
  {
   "cell_type": "code",
   "execution_count": 43,
   "id": "93410500",
   "metadata": {},
   "outputs": [
    {
     "name": "stdout",
     "output_type": "stream",
     "text": [
      "The autoreload extension is already loaded. To reload it, use:\n",
      "  %reload_ext autoreload\n"
     ]
    },
    {
     "data": {
      "text/html": [
       "<style>.container { width:90% !important; }</style>"
      ],
      "text/plain": [
       "<IPython.core.display.HTML object>"
      ]
     },
     "metadata": {},
     "output_type": "display_data"
    },
    {
     "data": {
      "text/html": [
       "<style>div.output_area{max-height:10000px;overflow:scroll;}</style>"
      ],
      "text/plain": [
       "<IPython.core.display.HTML object>"
      ]
     },
     "metadata": {},
     "output_type": "display_data"
    },
    {
     "name": "stdout",
     "output_type": "stream",
     "text": [
      "Python: 3.10.9 | packaged by conda-forge | (main, Jan 11 2023, 15:15:40) [MSC v.1916 64 bit (AMD64)]\n",
      "Notebook Last Run Initiated: 2023-03-13 19:39:37.515809\n"
     ]
    }
   ],
   "source": [
    "%load_ext autoreload\n",
    "%autoreload\n",
    "\n",
    "## This expands a notebook to full width\n",
    "from IPython.display import display, HTML\n",
    "\n",
    "display(HTML(\"<style>.container { width:90% !important; }</style>\"))\n",
    "display(HTML(\"\"\"<style>div.output_area{max-height:10000px;overflow:scroll;}</style>\"\"\"))\n",
    "## Show Python Version\n",
    "import sys\n",
    "print(\"Python: {0}\".format(sys.version))\n",
    "\n",
    "## Show Current Time\n",
    "import datetime as dt\n",
    "start = dt.datetime.now()\n",
    "print(\"Notebook Last Run Initiated: \"+str(start))"
   ]
  },
  {
   "cell_type": "code",
   "execution_count": 44,
   "id": "96c2740c",
   "metadata": {},
   "outputs": [],
   "source": [
    "import warnings\n",
    "warnings.filterwarnings(\"ignore\")\n",
    "\n",
    "from sklearn.cluster import KMeans\n",
    "from sklearn.preprocessing import StandardScaler\n",
    "\n",
    "import sklearn.metrics as sklearn_metrics\n",
    "from sklearn import mixture\n",
    "\n",
    "import math\n",
    "\n",
    "import matplotlib.pyplot as plt\n",
    "\n",
    "from kneed import KneeLocator\n",
    "\n",
    "import pandas as pd\n",
    "import numpy as np"
   ]
  },
  {
   "cell_type": "code",
   "execution_count": 45,
   "id": "64d7994e",
   "metadata": {},
   "outputs": [],
   "source": [
    "def silhouette_score(X, labels):\n",
    "    \"\"\"Wrapper function of Scikit-learn's silhouette_score. The only difference is it doesn't throw an error where there is only one label.\"\"\"\n",
    "  \n",
    "    if len(set(labels)) == 1:\n",
    "        return float(\"NaN\")\n",
    "    else:\n",
    "        return sklearn_metrics.silhouette_score(X, labels)"
   ]
  },
  {
   "cell_type": "code",
   "execution_count": 46,
   "id": "1f68c720",
   "metadata": {},
   "outputs": [],
   "source": [
    "Keys = ['accountid','userid']\n",
    "\n",
    "object_features  = ['postal_code','city','county','state','rural_code','key_zips_ind','gender','marital_status','age','usercreationdate','engaged','camera_count','firsttransaction','ratio_open30']\n",
    "numeric_features = ['datediff_create_trans','total_opens_last_90t180','ratio_open_30','ratio_open_60']\n",
    "newfeatures      = ['opens_90t180','ratio_open_30','ratio_open_60']"
   ]
  },
  {
   "cell_type": "code",
   "execution_count": 47,
   "id": "909eea62",
   "metadata": {},
   "outputs": [],
   "source": [
    "data = pd.read_csv('data/train_data.csv',low_memory=False)"
   ]
  },
  {
   "cell_type": "code",
   "execution_count": 48,
   "id": "76739018",
   "metadata": {},
   "outputs": [],
   "source": [
    "data = data.fillna(0)\n",
    "data = data.loc[data.smart_garage_camera_count > 0]\n",
    "data.datediff_create_trans = np.round(data.datediff_create_trans,0)\n",
    "data = data.reset_index(drop=True)"
   ]
  },
  {
   "cell_type": "code",
   "execution_count": 49,
   "id": "b5af8235",
   "metadata": {},
   "outputs": [],
   "source": [
    "data.key_zips_ind[data.key_zips_ind == 1] = 'keyservice'\n",
    "data.key_zips_ind[data.key_zips_ind == 0] = 'nokeyservice'"
   ]
  },
  {
   "cell_type": "code",
   "execution_count": 50,
   "id": "737cd383",
   "metadata": {},
   "outputs": [],
   "source": [
    "data.gender[data.gender == 0] = 'gender_other'\n",
    "data.gender[data.gender == 'unknown'] = 'gender_other'\n",
    "data.gender[data.gender == 'M'] = 'gender_m'\n",
    "data.gender[data.gender == 'F'] = 'gender_f'"
   ]
  },
  {
   "cell_type": "code",
   "execution_count": 51,
   "id": "b4e079c9",
   "metadata": {},
   "outputs": [],
   "source": [
    "data.marital_status[data.marital_status == 0] = 'ms_other'\n",
    "data.marital_status[data.marital_status == 'unknown'] = 'ms_other'\n",
    "data.marital_status[data.marital_status == 'M'] = 'ms_m'\n",
    "data.marital_status[data.marital_status == 'S'] = 'ms_s'\n",
    "data.marital_status[data.marital_status == 'B'] = 'ms_b'\n",
    "data.marital_status[data.marital_status == 'A'] = 'ms_a'"
   ]
  },
  {
   "cell_type": "code",
   "execution_count": 52,
   "id": "ceea1d03",
   "metadata": {},
   "outputs": [],
   "source": [
    "data.rural_code[data.rural_code == 0] = 'rc_unk'\n",
    "data.rural_code[data.rural_code == 'S'] = 'rc_s'\n",
    "data.rural_code[data.rural_code == 'U'] = 'rc_u'\n",
    "data.rural_code[data.rural_code == 'R'] = 'rc_r'"
   ]
  },
  {
   "cell_type": "code",
   "execution_count": 53,
   "id": "1626d460",
   "metadata": {},
   "outputs": [],
   "source": [
    "data.loc[data.age_1stperson_hushld == 0,'age'] = 'age_unk'\n",
    "data.loc[data.age_1stperson_hushld > 50,'age'] = 'age_senior'\n",
    "data.loc[(data.age_1stperson_hushld > 0) & (data.age_1stperson_hushld <= 50),'age'] = 'age_adult'"
   ]
  },
  {
   "cell_type": "code",
   "execution_count": 54,
   "id": "5ab77aec",
   "metadata": {},
   "outputs": [],
   "source": [
    "data.loc[data.myq_user_creationDate <= 9.160061599,'usercreationdate'] = 'established_user'\n",
    "data.loc[data.myq_user_creationDate > 9.160061599,'usercreationdate']  = 'new_user'"
   ]
  },
  {
   "cell_type": "code",
   "execution_count": 55,
   "id": "7ff87e2f",
   "metadata": {},
   "outputs": [],
   "source": [
    "data.loc[(data.engaged_prob >= 0) & (data.engaged_prob <= 0.91),'engaged'] = 'neutral'\n",
    "data.loc[(data.engaged_prob > 0.91) & (data.engaged_prob <= 1.34),'engaged'] = 'somewhat_engaged'\n",
    "data.loc[(data.engaged_prob > 1.34) & (data.engaged_prob <= 1.75),'engaged'] = 'engaged'\n",
    "data.loc[data.engaged_prob > 1.75,'engaged'] = 'strongly_engaged'"
   ]
  },
  {
   "cell_type": "code",
   "execution_count": 56,
   "id": "3b52a43c",
   "metadata": {},
   "outputs": [],
   "source": [
    "data.loc[data.smart_garage_camera_count == 1,'camera_count'] = 'single_camera'\n",
    "data.loc[data.smart_garage_camera_count > 1 ,'camera_count'] = 'multi_camera'"
   ]
  },
  {
   "cell_type": "code",
   "execution_count": 57,
   "id": "af62faff",
   "metadata": {},
   "outputs": [],
   "source": [
    "data.loc[data['datediff_create_trans'] <= 5, 'firsttransaction'] = 'immediate'\n",
    "data.loc[(data['datediff_create_trans'] > 5) & (data['datediff_create_trans'] <= 30),'firsttransaction'] = 'fast'\n",
    "data.loc[(data['datediff_create_trans'] > 30) & (data['datediff_create_trans'] <= 60), 'firsttransaction'] = 'delayed'\n",
    "data.loc[(data['datediff_create_trans'] > 60),'firsttransaction'] = 'slow'"
   ]
  },
  {
   "cell_type": "code",
   "execution_count": 58,
   "id": "c02d1c9f",
   "metadata": {},
   "outputs": [],
   "source": [
    "data.loc[data['ratio_open_30'] <= 0.2,'ratio_open30'] = 'low_frequency_ratio30'\n",
    "data.loc[(data['ratio_open_30'] > 0.2) & (data['ratio_open_30'] <= 0.6),'ratio_open30'] = 'mediumfrequencyratio30'\n",
    "data.loc[data['ratio_open_30'] > 0.6,'ratio_open30'] = 'highfrequencyratio30'"
   ]
  },
  {
   "cell_type": "code",
   "execution_count": 59,
   "id": "e67650c9",
   "metadata": {},
   "outputs": [],
   "source": [
    "new_data = pd.concat([data[Keys+object_features]],axis=1)"
   ]
  },
  {
   "cell_type": "code",
   "execution_count": 60,
   "id": "1f6f5b73",
   "metadata": {},
   "outputs": [
    {
     "data": {
      "text/html": [
       "<div>\n",
       "<style scoped>\n",
       "    .dataframe tbody tr th:only-of-type {\n",
       "        vertical-align: middle;\n",
       "    }\n",
       "\n",
       "    .dataframe tbody tr th {\n",
       "        vertical-align: top;\n",
       "    }\n",
       "\n",
       "    .dataframe thead th {\n",
       "        text-align: right;\n",
       "    }\n",
       "</style>\n",
       "<table border=\"1\" class=\"dataframe\">\n",
       "  <thead>\n",
       "    <tr style=\"text-align: right;\">\n",
       "      <th></th>\n",
       "      <th>accountid</th>\n",
       "      <th>userid</th>\n",
       "      <th>postal_code</th>\n",
       "      <th>city</th>\n",
       "      <th>county</th>\n",
       "      <th>state</th>\n",
       "      <th>rural_code</th>\n",
       "      <th>key_zips_ind</th>\n",
       "      <th>gender</th>\n",
       "      <th>marital_status</th>\n",
       "      <th>age</th>\n",
       "      <th>usercreationdate</th>\n",
       "      <th>engaged</th>\n",
       "      <th>camera_count</th>\n",
       "      <th>firsttransaction</th>\n",
       "      <th>ratio_open30</th>\n",
       "    </tr>\n",
       "  </thead>\n",
       "  <tbody>\n",
       "    <tr>\n",
       "      <th>0</th>\n",
       "      <td>B24CB6E7-C8E1-4B8D-9778-B724F67E05B2</td>\n",
       "      <td>64841C33-4A5A-4E8C-BB61-BDD70F326E90</td>\n",
       "      <td>85226</td>\n",
       "      <td>chandler</td>\n",
       "      <td>maricopa</td>\n",
       "      <td>az</td>\n",
       "      <td>rc_s</td>\n",
       "      <td>keyservice</td>\n",
       "      <td>gender_other</td>\n",
       "      <td>ms_other</td>\n",
       "      <td>age_unk</td>\n",
       "      <td>new_user</td>\n",
       "      <td>strongly_engaged</td>\n",
       "      <td>single_camera</td>\n",
       "      <td>fast</td>\n",
       "      <td>low_frequency_ratio30</td>\n",
       "    </tr>\n",
       "    <tr>\n",
       "      <th>1</th>\n",
       "      <td>F51FC1D9-5D37-4D34-AB54-1F41B9BD8C06</td>\n",
       "      <td>F51FC1D9-5D37-4D34-AB54-1F41B9BD8C06</td>\n",
       "      <td>98032</td>\n",
       "      <td>kent</td>\n",
       "      <td>king</td>\n",
       "      <td>wa</td>\n",
       "      <td>rc_u</td>\n",
       "      <td>keyservice</td>\n",
       "      <td>gender_m</td>\n",
       "      <td>ms_m</td>\n",
       "      <td>age_adult</td>\n",
       "      <td>established_user</td>\n",
       "      <td>strongly_engaged</td>\n",
       "      <td>multi_camera</td>\n",
       "      <td>slow</td>\n",
       "      <td>mediumfrequencyratio30</td>\n",
       "    </tr>\n",
       "    <tr>\n",
       "      <th>2</th>\n",
       "      <td>2036E661-F89B-46CA-AD81-1AD78CA8C91E</td>\n",
       "      <td>913AEF55-040B-4F53-BA0A-7F136B4368F6</td>\n",
       "      <td>75204</td>\n",
       "      <td>dallas</td>\n",
       "      <td>dallas</td>\n",
       "      <td>tx</td>\n",
       "      <td>rc_u</td>\n",
       "      <td>keyservice</td>\n",
       "      <td>gender_m</td>\n",
       "      <td>ms_m</td>\n",
       "      <td>age_adult</td>\n",
       "      <td>new_user</td>\n",
       "      <td>strongly_engaged</td>\n",
       "      <td>single_camera</td>\n",
       "      <td>immediate</td>\n",
       "      <td>low_frequency_ratio30</td>\n",
       "    </tr>\n",
       "    <tr>\n",
       "      <th>3</th>\n",
       "      <td>565A44C3-7F0A-4F50-89AA-7E296917B8FF</td>\n",
       "      <td>7584C122-1E64-47E8-B587-F466A39FD7D4</td>\n",
       "      <td>7922</td>\n",
       "      <td>berkeley_heights</td>\n",
       "      <td>union</td>\n",
       "      <td>nj</td>\n",
       "      <td>rc_s</td>\n",
       "      <td>keyservice</td>\n",
       "      <td>gender_m</td>\n",
       "      <td>ms_s</td>\n",
       "      <td>age_adult</td>\n",
       "      <td>new_user</td>\n",
       "      <td>strongly_engaged</td>\n",
       "      <td>single_camera</td>\n",
       "      <td>immediate</td>\n",
       "      <td>mediumfrequencyratio30</td>\n",
       "    </tr>\n",
       "    <tr>\n",
       "      <th>4</th>\n",
       "      <td>677AEC7D-BC45-4D29-B116-3758EA2D15CB</td>\n",
       "      <td>4C70B81B-2A69-4708-A7CE-C1BBCC03E043</td>\n",
       "      <td>40165</td>\n",
       "      <td>shepherdsville</td>\n",
       "      <td>bullitt</td>\n",
       "      <td>ky</td>\n",
       "      <td>rc_s</td>\n",
       "      <td>keyservice</td>\n",
       "      <td>gender_other</td>\n",
       "      <td>ms_other</td>\n",
       "      <td>age_unk</td>\n",
       "      <td>new_user</td>\n",
       "      <td>strongly_engaged</td>\n",
       "      <td>single_camera</td>\n",
       "      <td>immediate</td>\n",
       "      <td>mediumfrequencyratio30</td>\n",
       "    </tr>\n",
       "  </tbody>\n",
       "</table>\n",
       "</div>"
      ],
      "text/plain": [
       "                              accountid                                userid  \\\n",
       "0  B24CB6E7-C8E1-4B8D-9778-B724F67E05B2  64841C33-4A5A-4E8C-BB61-BDD70F326E90   \n",
       "1  F51FC1D9-5D37-4D34-AB54-1F41B9BD8C06  F51FC1D9-5D37-4D34-AB54-1F41B9BD8C06   \n",
       "2  2036E661-F89B-46CA-AD81-1AD78CA8C91E  913AEF55-040B-4F53-BA0A-7F136B4368F6   \n",
       "3  565A44C3-7F0A-4F50-89AA-7E296917B8FF  7584C122-1E64-47E8-B587-F466A39FD7D4   \n",
       "4  677AEC7D-BC45-4D29-B116-3758EA2D15CB  4C70B81B-2A69-4708-A7CE-C1BBCC03E043   \n",
       "\n",
       "   postal_code              city    county state rural_code key_zips_ind  \\\n",
       "0        85226          chandler  maricopa    az       rc_s   keyservice   \n",
       "1        98032              kent      king    wa       rc_u   keyservice   \n",
       "2        75204            dallas    dallas    tx       rc_u   keyservice   \n",
       "3         7922  berkeley_heights     union    nj       rc_s   keyservice   \n",
       "4        40165    shepherdsville   bullitt    ky       rc_s   keyservice   \n",
       "\n",
       "         gender marital_status        age  usercreationdate           engaged  \\\n",
       "0  gender_other       ms_other    age_unk          new_user  strongly_engaged   \n",
       "1      gender_m           ms_m  age_adult  established_user  strongly_engaged   \n",
       "2      gender_m           ms_m  age_adult          new_user  strongly_engaged   \n",
       "3      gender_m           ms_s  age_adult          new_user  strongly_engaged   \n",
       "4  gender_other       ms_other    age_unk          new_user  strongly_engaged   \n",
       "\n",
       "    camera_count firsttransaction            ratio_open30  \n",
       "0  single_camera             fast   low_frequency_ratio30  \n",
       "1   multi_camera             slow  mediumfrequencyratio30  \n",
       "2  single_camera        immediate   low_frequency_ratio30  \n",
       "3  single_camera        immediate  mediumfrequencyratio30  \n",
       "4  single_camera        immediate  mediumfrequencyratio30  "
      ]
     },
     "execution_count": 60,
     "metadata": {},
     "output_type": "execute_result"
    }
   ],
   "source": [
    "new_data.head()"
   ]
  },
  {
   "cell_type": "code",
   "execution_count": 61,
   "id": "7f15f98c",
   "metadata": {},
   "outputs": [
    {
     "data": {
      "text/plain": [
       "(19661, 16)"
      ]
     },
     "execution_count": 61,
     "metadata": {},
     "output_type": "execute_result"
    }
   ],
   "source": [
    "new_data.shape"
   ]
  },
  {
   "cell_type": "code",
   "execution_count": 62,
   "id": "5c51e99e",
   "metadata": {},
   "outputs": [],
   "source": [
    "new_data.to_csv('data/train_data_cat.csv',index=False)"
   ]
  },
  {
   "cell_type": "code",
   "execution_count": 63,
   "id": "887f84ac",
   "metadata": {},
   "outputs": [],
   "source": [
    "data.loc[:,['accountid','userid','target']].to_csv('data/targets.csv',index=False)"
   ]
  },
  {
   "cell_type": "code",
   "execution_count": null,
   "id": "e8b45139",
   "metadata": {},
   "outputs": [],
   "source": []
  }
 ],
 "metadata": {
  "kernelspec": {
   "display_name": "Python 3 (ipykernel)",
   "language": "python",
   "name": "python3"
  },
  "language_info": {
   "codemirror_mode": {
    "name": "ipython",
    "version": 3
   },
   "file_extension": ".py",
   "mimetype": "text/x-python",
   "name": "python",
   "nbconvert_exporter": "python",
   "pygments_lexer": "ipython3",
   "version": "3.10.9"
  }
 },
 "nbformat": 4,
 "nbformat_minor": 5
}
