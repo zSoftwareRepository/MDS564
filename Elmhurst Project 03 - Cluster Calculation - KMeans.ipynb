{
 "cells": [
  {
   "cell_type": "code",
   "execution_count": 1,
   "id": "93410500",
   "metadata": {},
   "outputs": [
    {
     "data": {
      "text/html": [
       "<style>.container { width:90% !important; }</style>"
      ],
      "text/plain": [
       "<IPython.core.display.HTML object>"
      ]
     },
     "metadata": {},
     "output_type": "display_data"
    },
    {
     "data": {
      "text/html": [
       "<style>div.output_area{max-height:10000px;overflow:scroll;}</style>"
      ],
      "text/plain": [
       "<IPython.core.display.HTML object>"
      ]
     },
     "metadata": {},
     "output_type": "display_data"
    },
    {
     "name": "stdout",
     "output_type": "stream",
     "text": [
      "Python: 3.10.9 | packaged by conda-forge | (main, Jan 11 2023, 15:15:40) [MSC v.1916 64 bit (AMD64)]\n",
      "Notebook Last Run Initiated: 2023-03-13 22:04:26.911195\n"
     ]
    }
   ],
   "source": [
    "%load_ext autoreload\n",
    "%autoreload\n",
    "\n",
    "## This expands a notebook to full width\n",
    "from IPython.display import display, HTML\n",
    "\n",
    "display(HTML(\"<style>.container { width:90% !important; }</style>\"))\n",
    "display(HTML(\"\"\"<style>div.output_area{max-height:10000px;overflow:scroll;}</style>\"\"\"))\n",
    "## Show Python Version\n",
    "import sys\n",
    "print(\"Python: {0}\".format(sys.version))\n",
    "\n",
    "## Show Current Time\n",
    "import datetime as dt\n",
    "start = dt.datetime.now()\n",
    "print(\"Notebook Last Run Initiated: \"+str(start))"
   ]
  },
  {
   "cell_type": "code",
   "execution_count": 2,
   "id": "96c2740c",
   "metadata": {},
   "outputs": [],
   "source": [
    "from sklearn.cluster import KMeans\n",
    "import seaborn as sns\n",
    "import matplotlib.pyplot as plt"
   ]
  },
  {
   "cell_type": "code",
   "execution_count": 3,
   "id": "ee070536",
   "metadata": {},
   "outputs": [],
   "source": [
    "seed = 42\n",
    "\n",
    "import pandas as pd\n",
    "import numpy as np\n",
    "\n",
    "import sklearn.metrics as sklearn_metrics\n",
    "\n",
    "np.random.seed(seed)"
   ]
  },
  {
   "cell_type": "code",
   "execution_count": 4,
   "id": "3e9744e9",
   "metadata": {},
   "outputs": [],
   "source": [
    "def silhouette_score(X, labels):\n",
    "    \"\"\"Wrapper function of Scikit-learn's silhouette_score. The only difference is it doesn't throw an error where there is only one label.\"\"\"\n",
    "  \n",
    "    if len(set(labels)) == 1:\n",
    "        return float(\"NaN\")\n",
    "    else:\n",
    "        return sklearn_metrics.silhouette_score(X, labels)"
   ]
  },
  {
   "cell_type": "code",
   "execution_count": 5,
   "id": "909eea62",
   "metadata": {},
   "outputs": [],
   "source": [
    "data = pd.read_csv('data/project_dataset.csv',low_memory=False)"
   ]
  },
  {
   "cell_type": "code",
   "execution_count": 6,
   "id": "76739018",
   "metadata": {},
   "outputs": [
    {
     "data": {
      "text/html": [
       "<div>\n",
       "<style scoped>\n",
       "    .dataframe tbody tr th:only-of-type {\n",
       "        vertical-align: middle;\n",
       "    }\n",
       "\n",
       "    .dataframe tbody tr th {\n",
       "        vertical-align: top;\n",
       "    }\n",
       "\n",
       "    .dataframe thead th {\n",
       "        text-align: right;\n",
       "    }\n",
       "</style>\n",
       "<table border=\"1\" class=\"dataframe\">\n",
       "  <thead>\n",
       "    <tr style=\"text-align: right;\">\n",
       "      <th></th>\n",
       "      <th>accountid</th>\n",
       "      <th>userid</th>\n",
       "      <th>0</th>\n",
       "      <th>1</th>\n",
       "      <th>2</th>\n",
       "      <th>3</th>\n",
       "      <th>4</th>\n",
       "      <th>5</th>\n",
       "      <th>6</th>\n",
       "      <th>7</th>\n",
       "      <th>...</th>\n",
       "      <th>290</th>\n",
       "      <th>291</th>\n",
       "      <th>292</th>\n",
       "      <th>293</th>\n",
       "      <th>294</th>\n",
       "      <th>295</th>\n",
       "      <th>296</th>\n",
       "      <th>297</th>\n",
       "      <th>298</th>\n",
       "      <th>299</th>\n",
       "    </tr>\n",
       "  </thead>\n",
       "  <tbody>\n",
       "    <tr>\n",
       "      <th>0</th>\n",
       "      <td>B24CB6E7-C8E1-4B8D-9778-B724F67E05B2</td>\n",
       "      <td>64841C33-4A5A-4E8C-BB61-BDD70F326E90</td>\n",
       "      <td>-0.223028</td>\n",
       "      <td>0.168989</td>\n",
       "      <td>0.049634</td>\n",
       "      <td>0.265127</td>\n",
       "      <td>-0.099026</td>\n",
       "      <td>0.110539</td>\n",
       "      <td>0.082398</td>\n",
       "      <td>-0.217806</td>\n",
       "      <td>...</td>\n",
       "      <td>-0.224249</td>\n",
       "      <td>0.070055</td>\n",
       "      <td>-0.127531</td>\n",
       "      <td>0.008462</td>\n",
       "      <td>-0.093481</td>\n",
       "      <td>0.226089</td>\n",
       "      <td>-0.084671</td>\n",
       "      <td>0.017221</td>\n",
       "      <td>0.055065</td>\n",
       "      <td>0.239656</td>\n",
       "    </tr>\n",
       "    <tr>\n",
       "      <th>1</th>\n",
       "      <td>F51FC1D9-5D37-4D34-AB54-1F41B9BD8C06</td>\n",
       "      <td>F51FC1D9-5D37-4D34-AB54-1F41B9BD8C06</td>\n",
       "      <td>0.089386</td>\n",
       "      <td>-0.060354</td>\n",
       "      <td>0.026696</td>\n",
       "      <td>-0.238734</td>\n",
       "      <td>-0.059884</td>\n",
       "      <td>0.076348</td>\n",
       "      <td>0.078483</td>\n",
       "      <td>0.028509</td>\n",
       "      <td>...</td>\n",
       "      <td>-0.303863</td>\n",
       "      <td>-0.161484</td>\n",
       "      <td>-0.200358</td>\n",
       "      <td>0.231355</td>\n",
       "      <td>-0.184201</td>\n",
       "      <td>0.320125</td>\n",
       "      <td>-0.070762</td>\n",
       "      <td>0.033571</td>\n",
       "      <td>-0.058809</td>\n",
       "      <td>0.018938</td>\n",
       "    </tr>\n",
       "    <tr>\n",
       "      <th>2</th>\n",
       "      <td>2036E661-F89B-46CA-AD81-1AD78CA8C91E</td>\n",
       "      <td>913AEF55-040B-4F53-BA0A-7F136B4368F6</td>\n",
       "      <td>-0.133327</td>\n",
       "      <td>-0.076570</td>\n",
       "      <td>-0.103270</td>\n",
       "      <td>-0.255172</td>\n",
       "      <td>-0.033821</td>\n",
       "      <td>0.102381</td>\n",
       "      <td>0.228990</td>\n",
       "      <td>0.050512</td>\n",
       "      <td>...</td>\n",
       "      <td>-0.255370</td>\n",
       "      <td>0.289543</td>\n",
       "      <td>-0.361428</td>\n",
       "      <td>0.190217</td>\n",
       "      <td>-0.069958</td>\n",
       "      <td>0.388427</td>\n",
       "      <td>-0.105673</td>\n",
       "      <td>0.161997</td>\n",
       "      <td>-0.003599</td>\n",
       "      <td>0.293151</td>\n",
       "    </tr>\n",
       "    <tr>\n",
       "      <th>3</th>\n",
       "      <td>565A44C3-7F0A-4F50-89AA-7E296917B8FF</td>\n",
       "      <td>7584C122-1E64-47E8-B587-F466A39FD7D4</td>\n",
       "      <td>-0.137795</td>\n",
       "      <td>0.058056</td>\n",
       "      <td>-0.039041</td>\n",
       "      <td>0.080276</td>\n",
       "      <td>-0.143586</td>\n",
       "      <td>0.257206</td>\n",
       "      <td>0.243565</td>\n",
       "      <td>-0.017286</td>\n",
       "      <td>...</td>\n",
       "      <td>-0.175256</td>\n",
       "      <td>0.143120</td>\n",
       "      <td>-0.235421</td>\n",
       "      <td>0.258802</td>\n",
       "      <td>-0.124529</td>\n",
       "      <td>0.066114</td>\n",
       "      <td>0.008330</td>\n",
       "      <td>-0.010956</td>\n",
       "      <td>-0.173204</td>\n",
       "      <td>0.112793</td>\n",
       "    </tr>\n",
       "    <tr>\n",
       "      <th>4</th>\n",
       "      <td>677AEC7D-BC45-4D29-B116-3758EA2D15CB</td>\n",
       "      <td>4C70B81B-2A69-4708-A7CE-C1BBCC03E043</td>\n",
       "      <td>-0.038019</td>\n",
       "      <td>-0.021056</td>\n",
       "      <td>0.143451</td>\n",
       "      <td>0.090723</td>\n",
       "      <td>0.119178</td>\n",
       "      <td>0.086459</td>\n",
       "      <td>0.210279</td>\n",
       "      <td>-0.043040</td>\n",
       "      <td>...</td>\n",
       "      <td>-0.359738</td>\n",
       "      <td>0.062531</td>\n",
       "      <td>-0.251169</td>\n",
       "      <td>0.145347</td>\n",
       "      <td>0.003361</td>\n",
       "      <td>0.111164</td>\n",
       "      <td>0.015142</td>\n",
       "      <td>0.046343</td>\n",
       "      <td>-0.132209</td>\n",
       "      <td>0.216785</td>\n",
       "    </tr>\n",
       "  </tbody>\n",
       "</table>\n",
       "<p>5 rows × 302 columns</p>\n",
       "</div>"
      ],
      "text/plain": [
       "                              accountid                                userid  \\\n",
       "0  B24CB6E7-C8E1-4B8D-9778-B724F67E05B2  64841C33-4A5A-4E8C-BB61-BDD70F326E90   \n",
       "1  F51FC1D9-5D37-4D34-AB54-1F41B9BD8C06  F51FC1D9-5D37-4D34-AB54-1F41B9BD8C06   \n",
       "2  2036E661-F89B-46CA-AD81-1AD78CA8C91E  913AEF55-040B-4F53-BA0A-7F136B4368F6   \n",
       "3  565A44C3-7F0A-4F50-89AA-7E296917B8FF  7584C122-1E64-47E8-B587-F466A39FD7D4   \n",
       "4  677AEC7D-BC45-4D29-B116-3758EA2D15CB  4C70B81B-2A69-4708-A7CE-C1BBCC03E043   \n",
       "\n",
       "          0         1         2         3         4         5         6  \\\n",
       "0 -0.223028  0.168989  0.049634  0.265127 -0.099026  0.110539  0.082398   \n",
       "1  0.089386 -0.060354  0.026696 -0.238734 -0.059884  0.076348  0.078483   \n",
       "2 -0.133327 -0.076570 -0.103270 -0.255172 -0.033821  0.102381  0.228990   \n",
       "3 -0.137795  0.058056 -0.039041  0.080276 -0.143586  0.257206  0.243565   \n",
       "4 -0.038019 -0.021056  0.143451  0.090723  0.119178  0.086459  0.210279   \n",
       "\n",
       "          7  ...       290       291       292       293       294       295  \\\n",
       "0 -0.217806  ... -0.224249  0.070055 -0.127531  0.008462 -0.093481  0.226089   \n",
       "1  0.028509  ... -0.303863 -0.161484 -0.200358  0.231355 -0.184201  0.320125   \n",
       "2  0.050512  ... -0.255370  0.289543 -0.361428  0.190217 -0.069958  0.388427   \n",
       "3 -0.017286  ... -0.175256  0.143120 -0.235421  0.258802 -0.124529  0.066114   \n",
       "4 -0.043040  ... -0.359738  0.062531 -0.251169  0.145347  0.003361  0.111164   \n",
       "\n",
       "        296       297       298       299  \n",
       "0 -0.084671  0.017221  0.055065  0.239656  \n",
       "1 -0.070762  0.033571 -0.058809  0.018938  \n",
       "2 -0.105673  0.161997 -0.003599  0.293151  \n",
       "3  0.008330 -0.010956 -0.173204  0.112793  \n",
       "4  0.015142  0.046343 -0.132209  0.216785  \n",
       "\n",
       "[5 rows x 302 columns]"
      ]
     },
     "execution_count": 6,
     "metadata": {},
     "output_type": "execute_result"
    }
   ],
   "source": [
    "data.head()"
   ]
  },
  {
   "cell_type": "code",
   "execution_count": 7,
   "id": "3b384f58",
   "metadata": {},
   "outputs": [],
   "source": [
    "# find optimal K using silhouette scores\n",
    "silhouette_scores = []\n",
    "\n",
    "K = range(2,10)\n",
    "for n_clusters in K:\n",
    "    kmeans = KMeans(n_clusters=n_clusters, random_state=seed, n_init=20, max_iter=500)\n",
    "    kmeans.fit(data.iloc[:,2:])\n",
    "    silhouette_scores.append(silhouette_score(data.iloc[:,2:], kmeans.labels_))    "
   ]
  },
  {
   "cell_type": "code",
   "execution_count": 8,
   "id": "1c64f7bd",
   "metadata": {},
   "outputs": [
    {
     "data": {
      "image/png": "[encoded data removed]",
      "text/plain": [
       "<Figure size 640x480 with 1 Axes>"
      ]
     },
     "metadata": {},
     "output_type": "display_data"
    }
   ],
   "source": [
    "plt.plot(K, silhouette_scores, 'bx-')\n",
    "plt.xlabel('No. of clusters')\n",
    "plt.ylabel('Silhouette scores')\n",
    "plt.title('Silhouette Method For Optimal k')\n",
    "plt.show()"
   ]
  },
  {
   "cell_type": "code",
   "execution_count": 9,
   "id": "bd1540a4",
   "metadata": {},
   "outputs": [],
   "source": [
    "best_k = np.nanargmax(silhouette_scores)+2"
   ]
  },
  {
   "cell_type": "code",
   "execution_count": 10,
   "id": "e0097d7c",
   "metadata": {},
   "outputs": [
    {
     "name": "stdout",
     "output_type": "stream",
     "text": [
      "The best K value for silhouette method is: 2\n"
     ]
    }
   ],
   "source": [
    "print(\"The best K value for silhouette method is:\",best_k)"
   ]
  },
  {
   "cell_type": "code",
   "execution_count": 11,
   "id": "449d8d7e",
   "metadata": {},
   "outputs": [],
   "source": [
    "kmeans = KMeans(n_clusters=best_k, random_state=seed, n_init=20, max_iter=500).fit(data.iloc[:,2:])"
   ]
  },
  {
   "cell_type": "code",
   "execution_count": 12,
   "id": "414273c2",
   "metadata": {},
   "outputs": [],
   "source": [
    "clustered_data = data.loc[:,['accountid','userid']]"
   ]
  },
  {
   "cell_type": "code",
   "execution_count": 13,
   "id": "6236b99f",
   "metadata": {},
   "outputs": [],
   "source": [
    "clustered_data['cluster'] = pd.Categorical(kmeans.labels_)"
   ]
  },
  {
   "cell_type": "code",
   "execution_count": 14,
   "id": "3dd06406",
   "metadata": {},
   "outputs": [],
   "source": [
    "clustered_data.to_csv('data/cluster_index_KMeans.csv',index=False)"
   ]
  },
  {
   "cell_type": "code",
   "execution_count": 15,
   "id": "d1638611",
   "metadata": {
    "scrolled": true
   },
   "outputs": [],
   "source": [
    "kmeans.cluster_centers_.tofile('data/kmeans_centroids.csv',sep=',')"
   ]
  },
  {
   "cell_type": "code",
   "execution_count": 16,
   "id": "9460e595",
   "metadata": {},
   "outputs": [],
   "source": [
    "centroids = pd.DataFrame(kmeans.cluster_centers_)"
   ]
  },
  {
   "cell_type": "code",
   "execution_count": 17,
   "id": "f58478c7",
   "metadata": {},
   "outputs": [],
   "source": [
    "cols = [*range(300)]\n",
    "cols = map(str, cols)\n",
    "cols = list(cols)\n",
    "cols = map(lambda c : 'col'+c,cols)\n",
    "cols = list(cols)"
   ]
  },
  {
   "cell_type": "code",
   "execution_count": 18,
   "id": "0062a81f",
   "metadata": {},
   "outputs": [],
   "source": [
    "centroids.columns=cols"
   ]
  },
  {
   "cell_type": "code",
   "execution_count": 19,
   "id": "a00469cd",
   "metadata": {},
   "outputs": [],
   "source": [
    "centroids.to_csv('data/kmeans_centroids.csv',index=False)"
   ]
  },
  {
   "cell_type": "code",
   "execution_count": null,
   "id": "964eb0c4",
   "metadata": {},
   "outputs": [],
   "source": []
  }
 ],
 "metadata": {
  "kernelspec": {
   "display_name": "Python 3 (ipykernel)",
   "language": "python",
   "name": "python3"
  },
  "language_info": {
   "codemirror_mode": {
    "name": "ipython",
    "version": 3
   },
   "file_extension": ".py",
   "mimetype": "text/x-python",
   "name": "python",
   "nbconvert_exporter": "python",
   "pygments_lexer": "ipython3",
   "version": "3.10.9"
  }
 },
 "nbformat": 4,
 "nbformat_minor": 5
}
